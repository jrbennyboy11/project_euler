{
 "cells": [
  {
   "cell_type": "code",
   "execution_count": 2,
   "metadata": {},
   "outputs": [
    {
     "data": {
      "text/html": [
       "<style>.container { width:100% !important; }</style>"
      ],
      "text/plain": [
       "<IPython.core.display.HTML object>"
      ]
     },
     "metadata": {},
     "output_type": "display_data"
    }
   ],
   "source": [
    "from IPython.display import display, HTML\n",
    "display(HTML(\"<style>.container { width:100% !important; }</style>\"))"
   ]
  },
  {
   "cell_type": "code",
   "execution_count": 15,
   "metadata": {},
   "outputs": [
    {
     "name": "stdout",
     "output_type": "stream",
     "text": [
      "Total Combinations: 20492570929\n",
      "Total Combinations: 20492570929\n",
      "Total Combinations: 20492570929\n",
      "1 loop, best of 3: 640 µs per loop\n"
     ]
    }
   ],
   "source": [
    "%%timeit -n1\n",
    "\n",
    "from math import factorial\n",
    "\n",
    "max_array_size = 50\n",
    "block_sizes = [2,3,4]\n",
    "total_combinations = 0\n",
    "\n",
    "for bs in block_sizes:\n",
    "    array = [0] * max_array_size\n",
    "    while array.count(0) >= bs:\n",
    "        array = array[bs:] + [1]\n",
    "        num_combinations = int(factorial(len(array))/(factorial(array.count(0))*factorial(array.count(1))))\n",
    "        total_combinations += num_combinations\n",
    "        #print(array,num_combinations)\n",
    "        \n",
    "print(\"Total Combinations: %i\" % total_combinations)"
   ]
  }
 ],
 "metadata": {
  "kernelspec": {
   "display_name": "Python 3",
   "language": "python",
   "name": "python3"
  },
  "language_info": {
   "codemirror_mode": {
    "name": "ipython",
    "version": 3
   },
   "file_extension": ".py",
   "mimetype": "text/x-python",
   "name": "python",
   "nbconvert_exporter": "python",
   "pygments_lexer": "ipython3",
   "version": "3.6.1"
  }
 },
 "nbformat": 4,
 "nbformat_minor": 2
}
