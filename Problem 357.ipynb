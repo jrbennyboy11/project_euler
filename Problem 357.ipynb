{
 "cells": [
  {
   "cell_type": "code",
   "execution_count": null,
   "metadata": {},
   "outputs": [],
   "source": [
    "import pandas as pd\n",
    "import numpy as np\n",
    "from primesieve import primes\n",
    "import itertools\n",
    "\n",
    "from IPython.display import display, HTML\n",
    "display(HTML(\"<style>.container { width:100% !important; }</style>\"))\n",
    "pd.options.display.max_rows    = 1000\n",
    "pd.options.display.max_columns = 1000\n",
    "\n",
    "from functools import reduce\n",
    "import multiprocessing\n",
    "\n",
    "def factors_of(n):    \n",
    "    return set(reduce(list.__add__, \n",
    "                ([i, n//i] for i in range(1, int(n**0.5) + 1) if n % i == 0)))\n",
    "\n",
    "def check_number(i,prime_list):\n",
    "    divisors = factors_of(i)\n",
    "    \n",
    "    for d in divisors:\n",
    "        if (d + i/d) not in prime_list:\n",
    "            return 0\n",
    "    \n",
    "    return i\n",
    "\n",
    "max_number = 100000000\n",
    "\n",
    "prime_list = pd.Series(primes(max_number + (max_number/2) + 1)) # max_number/2 because max_number/2 is the biggest factor\n",
    "                                                                # so max_number + (max_number/2) + 1 is the largest number we will\n",
    "                                                                # need to check if it's prime"
   ]
  },
  {
   "cell_type": "code",
   "execution_count": null,
   "metadata": {},
   "outputs": [],
   "source": [
    "pool = multiprocessing.Pool(processes=4)\n",
    "\n",
    "results = [pool.apply(check_number, args=(i,prime_list,)) for i in range(1,max_number+1)]"
   ]
  },
  {
   "cell_type": "code",
   "execution_count": null,
   "metadata": {
    "collapsed": true
   },
   "outputs": [],
   "source": [
    "def worker(num, prime_list, return_dict):\n",
    "    divisors = factors_of(num)\n",
    "    \n",
    "    for d in divisors:\n",
    "        if (d + i/d) not in prime_list:\n",
    "            return_dict[num] = False\n",
    "    \n",
    "    return_dict[num] = True\n",
    "\n",
    "    \n",
    "manager = multiprocessing.Manager()\n",
    "return_dict = manager.dict()\n",
    "jobs = []\n",
    "\n",
    "for i in range(1,max_number+1):\n",
    "    p = multiprocessing.Process(target=worker, args=(i,prime_list,return_dict))\n",
    "    jobs.append(p)\n",
    "    p.start()\n",
    "\n",
    "for proc in jobs:\n",
    "    proc.join()\n",
    "print return_dict.values()"
   ]
  },
  {
   "cell_type": "code",
   "execution_count": null,
   "metadata": {},
   "outputs": [],
   "source": [
    "true_for = []\n",
    "\n",
    "ten_percent = max_number/10\n",
    "percent_completed = 0\n",
    "\n",
    "for i in range(1,max_number+1):\n",
    "    in_solution = True\n",
    "    \n",
    "    divisors = factors_of(i)\n",
    "    \n",
    "    for d in divisors:\n",
    "        if (d + i/d) not in prime_list:\n",
    "            in_solution = False\n",
    "            break\n",
    "    \n",
    "    if in_solution:\n",
    "        true_for.append(i)\n",
    "        \n",
    "    if i%ten_percent == 0:\n",
    "        percent_completed += 10\n",
    "        print(\"%i percent completed\" % percent_completed)"
   ]
  },
  {
   "cell_type": "code",
   "execution_count": null,
   "metadata": {
    "collapsed": true
   },
   "outputs": [],
   "source": [
    "sum(true_for)"
   ]
  },
  {
   "cell_type": "code",
   "execution_count": null,
   "metadata": {
    "collapsed": true
   },
   "outputs": [],
   "source": [
    "df = pd.read_pickle(\"problem357.pk1.gz\")"
   ]
  },
  {
   "cell_type": "code",
   "execution_count": null,
   "metadata": {
    "collapsed": true
   },
   "outputs": [],
   "source": [
    "true_for = []\n",
    "\n",
    "for index,row in df.iterrows():\n",
    "    i = index + 1\n",
    "    in_solution = True\n",
    "    for d in row.divisors:\n",
    "        if d + int(i/d) not in prime_list:\n",
    "            in_solution = False\n",
    "            break\n",
    "    if in_solution:\n",
    "        true_for.append(i)"
   ]
  },
  {
   "cell_type": "code",
   "execution_count": null,
   "metadata": {
    "collapsed": true
   },
   "outputs": [],
   "source": [
    "len(true_for)"
   ]
  },
  {
   "cell_type": "code",
   "execution_count": null,
   "metadata": {
    "collapsed": true
   },
   "outputs": [],
   "source": [
    "sum(true_for)"
   ]
  }
 ],
 "metadata": {
  "kernelspec": {
   "display_name": "Python 3",
   "language": "python",
   "name": "python3"
  },
  "language_info": {
   "codemirror_mode": {
    "name": "ipython",
    "version": 3
   },
   "file_extension": ".py",
   "mimetype": "text/x-python",
   "name": "python",
   "nbconvert_exporter": "python",
   "pygments_lexer": "ipython3",
   "version": "3.6.1"
  }
 },
 "nbformat": 4,
 "nbformat_minor": 2
}
