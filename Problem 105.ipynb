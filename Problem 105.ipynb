{
 "cells": [
  {
   "cell_type": "code",
   "execution_count": null,
   "metadata": {},
   "outputs": [],
   "source": [
    "import pandas as pd\n",
    "import numpy as np\n",
    "from primesieve.numpy import *\n",
    "from itertools import combinations\n",
    "from random import randint, shuffle\n",
    "\n",
    "from IPython.display import display, HTML\n",
    "display(HTML(\"<style>.container { width:100% !important; }</style>\"))\n",
    "pd.options.display.max_rows    = 1000\n",
    "pd.options.display.max_columns = 1000"
   ]
  },
  {
   "cell_type": "code",
   "execution_count": null,
   "metadata": {},
   "outputs": [],
   "source": [
    "sets = []\n",
    "\n",
    "with open(\"p105_sets.txt\", 'r') as f:\n",
    "    for line in f:\n",
    "        sets.append([int(i) for i in line.strip().split(',')])"
   ]
  },
  {
   "cell_type": "code",
   "execution_count": null,
   "metadata": {},
   "outputs": [],
   "source": [
    "# Array of all found special sets\n",
    "special_sets = []\n",
    "\n",
    "for s in sets:\n",
    "    # dictionary where the key is a sum and the\n",
    "    # value is a list of sets that add up to it\n",
    "    sums = {}\n",
    "    is_special = True\n",
    "    \n",
    "    # populate sums dictionary and check for S(B) > S(C)\n",
    "    previous_sets_largest = 0\n",
    "    for i in range(2,len(s)):\n",
    "        current_sets_largest = 0\n",
    "        for c in combinations(s,i):\n",
    "            c_sum = sum(c)\n",
    "            \n",
    "            if c_sum > current_sets_largest:\n",
    "                current_sets_largest = c_sum\n",
    "                \n",
    "            if c_sum < previous_sets_largest:\n",
    "                is_special = False\n",
    "            \n",
    "            if not c_sum in sums:\n",
    "                sums[c_sum] = []\n",
    "            sums[c_sum].append(set(c))\n",
    "            \n",
    "        previous_sets_largest = current_sets_largest\n",
    "    \n",
    "    # Check each sum that has multiple sets to see if any of the sets are disjointed\n",
    "    # if so, then it is not a special set as there are two sums that add up to the same sum\n",
    "    # and are disjointed\n",
    "    for k in sums:\n",
    "        if not is_special:\n",
    "            break\n",
    "        \n",
    "        if len(sums[k]) > 1:\n",
    "            for c in combinations(sums[k],2):\n",
    "                if c[0].isdisjoint(c[1]):\n",
    "                    is_special = False\n",
    "                    break\n",
    "                    \n",
    "    if is_special:\n",
    "        special_sets.append(s)"
   ]
  },
  {
   "cell_type": "code",
   "execution_count": null,
   "metadata": {},
   "outputs": [],
   "source": [
    "answer = 0\n",
    "for s in special_sets:\n",
    "    answer += sum(s)\n",
    "    \n",
    "print(\"The answer to problem 105 is: %i\" % answer)"
   ]
  }
 ],
 "metadata": {
  "kernelspec": {
   "display_name": "Python 3",
   "language": "python",
   "name": "python3"
  },
  "language_info": {
   "codemirror_mode": {
    "name": "ipython",
    "version": 3
   },
   "file_extension": ".py",
   "mimetype": "text/x-python",
   "name": "python",
   "nbconvert_exporter": "python",
   "pygments_lexer": "ipython3",
   "version": "3.6.9"
  }
 },
 "nbformat": 4,
 "nbformat_minor": 2
}
