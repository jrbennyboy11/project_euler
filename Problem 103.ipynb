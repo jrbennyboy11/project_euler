{
 "cells": [
  {
   "cell_type": "code",
   "execution_count": 1,
   "metadata": {},
   "outputs": [
    {
     "data": {
      "text/html": [
       "<style>.container { width:100% !important; }</style>"
      ],
      "text/plain": [
       "<IPython.core.display.HTML object>"
      ]
     },
     "metadata": {},
     "output_type": "display_data"
    }
   ],
   "source": [
    "import pandas as pd\n",
    "import numpy as np\n",
    "from primesieve.numpy import *\n",
    "from itertools import combinations\n",
    "from random import randint, shuffle\n",
    "\n",
    "from IPython.display import display, HTML\n",
    "display(HTML(\"<style>.container { width:100% !important; }</style>\"))\n",
    "pd.options.display.max_rows    = 1000\n",
    "pd.options.display.max_columns = 1000\n",
    "\n",
    "def is_special(s):\n",
    "    sums = {}\n",
    "    previous_sets_largest = 0\n",
    "    \n",
    "    for i in range(2,len(s)):\n",
    "        current_sets_largest = 0\n",
    "        for c in combinations(s,i):\n",
    "            c_sum = sum(c)\n",
    "            \n",
    "            if c_sum > current_sets_largest:\n",
    "                current_sets_largest = c_sum\n",
    "                \n",
    "            if c_sum < previous_sets_largest:\n",
    "                return False\n",
    "            \n",
    "            if not c_sum in sums:\n",
    "                sums[c_sum] = []\n",
    "            sums[c_sum].append(set(c))\n",
    "            \n",
    "        previous_sets_largest = current_sets_largest\n",
    "    \n",
    "    for k in sums:\n",
    "        if len(sums[k]) > 1:\n",
    "            for c in combinations(sums[k],2):\n",
    "                if c[0].isdisjoint(c[1]):\n",
    "                    return False\n",
    "                    \n",
    "    return True"
   ]
  },
  {
   "cell_type": "code",
   "execution_count": 4,
   "metadata": {},
   "outputs": [
    {
     "name": "stdout",
     "output_type": "stream",
     "text": [
      "20313839404245\n",
      "20323940414346\n",
      "20334041424447\n",
      "20343739404148\n",
      "20344142434548\n",
      "20353840414249\n",
      "20354243444649\n",
      "21323940414346\n",
      "21334041424447\n",
      "21344142434548\n",
      "21353840414249\n",
      "21354243444649\n",
      "22333942444546\n",
      "22333943444547\n",
      "22334041424447\n",
      "22334143444549\n",
      "22334243444649\n",
      "22344043444648\n",
      "22344043454647\n",
      "22344044454648\n",
      "22344142434548\n",
      "22354144454749\n",
      "22354144464748\n",
      "22354145464749\n",
      "22354243444649\n",
      "22364245474849\n",
      "23344043454647\n",
      "23344044454648\n",
      "23344142434548\n",
      "23344144464748\n",
      "23344145464749\n",
      "23354144454749\n",
      "23354144464748\n",
      "23354145464749\n",
      "23354243444649\n",
      "23354245474849\n",
      "23364245474849\n",
      "24354144464748\n",
      "24354145464749\n",
      "24354243444649\n",
      "24354245474849\n",
      "24364245474849\n",
      "25364245474849\n"
     ]
    }
   ],
   "source": [
    "max_set_val = 50\n",
    "\n",
    "for i in range(11, max_set_val):\n",
    "    for i2 in range(i+1, max_set_val):\n",
    "        for i3 in range(i2+1, max_set_val):\n",
    "            for i4 in range(i3+1, max_set_val):\n",
    "                for i5 in range(i4+1, max_set_val):\n",
    "                    for i6 in range(i5+1, max_set_val):\n",
    "                        for i7 in range(i6+1, max_set_val):\n",
    "                            if is_special([i,i2,i3,i4,i5,i6,i7]):\n",
    "                                print(\"%i%i%i%i%i%i%i\" % (i,i2,i3,i4,i5,i6,i7))"
   ]
  }
 ],
 "metadata": {
  "kernelspec": {
   "display_name": "Python 3",
   "language": "python",
   "name": "python3"
  },
  "language_info": {
   "codemirror_mode": {
    "name": "ipython",
    "version": 3
   },
   "file_extension": ".py",
   "mimetype": "text/x-python",
   "name": "python",
   "nbconvert_exporter": "python",
   "pygments_lexer": "ipython3",
   "version": "3.6.9"
  }
 },
 "nbformat": 4,
 "nbformat_minor": 2
}
