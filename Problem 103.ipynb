{
 "cells": [
  {
   "cell_type": "code",
   "execution_count": null,
   "metadata": {},
   "outputs": [],
   "source": [
    "import pandas as pd\n",
    "import numpy as np\n",
    "from primesieve.numpy import *\n",
    "from itertools import combinations\n",
    "from random import randint, shuffle\n",
    "\n",
    "from IPython.display import display, HTML\n",
    "display(HTML(\"<style>.container { width:100% !important; }</style>\"))\n",
    "pd.options.display.max_rows    = 1000\n",
    "pd.options.display.max_columns = 1000\n",
    "\n",
    "def is_special(s):\n",
    "    sums = {}\n",
    "    previous_sets_largest = 0\n",
    "    \n",
    "    for i in range(2,len(s)):\n",
    "        current_sets_largest = 0\n",
    "        for c in combinations(s,i):\n",
    "            c_sum = sum(c)\n",
    "            \n",
    "            if c_sum > current_sets_largest:\n",
    "                current_sets_largest = c_sum\n",
    "                \n",
    "            if c_sum < previous_sets_largest:\n",
    "                return False\n",
    "            \n",
    "            if not c_sum in sums:\n",
    "                sums[c_sum] = []\n",
    "            sums[c_sum].append(set(c))\n",
    "            \n",
    "        previous_sets_largest = current_sets_largest\n",
    "    \n",
    "    for k in sums:\n",
    "        if len(sums[k]) > 1:\n",
    "            for c in combinations(sums[k],2):\n",
    "                if c[0].isdisjoint(c[1]):\n",
    "                    return False\n",
    "                    \n",
    "    return True"
   ]
  },
  {
   "cell_type": "code",
   "execution_count": null,
   "metadata": {},
   "outputs": [],
   "source": [
    "max_set_val = 50\n",
    "\n",
    "for i in range(11, max_set_val):\n",
    "    for i2 in range(i+1, max_set_val):\n",
    "        for i3 in range(i2+1, max_set_val):\n",
    "            for i4 in range(i3+1, max_set_val):\n",
    "                for i5 in range(i4+1, max_set_val):\n",
    "                    for i6 in range(i5+1, max_set_val):\n",
    "                        for i7 in range(i6+1, max_set_val):\n",
    "                            if is_special([i,i2,i3,i4,i5,i6,i7]):\n",
    "                                print(\"%i%i%i%i%i%i%i\" % (i,i2,i3,i4,i5,i6,i7))"
   ]
  }
 ],
 "metadata": {
  "kernelspec": {
   "display_name": "Python 3",
   "language": "python",
   "name": "python3"
  },
  "language_info": {
   "codemirror_mode": {
    "name": "ipython",
    "version": 3
   },
   "file_extension": ".py",
   "mimetype": "text/x-python",
   "name": "python",
   "nbconvert_exporter": "python",
   "pygments_lexer": "ipython3",
   "version": "3.6.9"
  }
 },
 "nbformat": 4,
 "nbformat_minor": 2
}
