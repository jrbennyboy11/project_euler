{
 "cells": [
  {
   "cell_type": "code",
   "execution_count": 1,
   "metadata": {
    "collapsed": false,
    "deletable": true,
    "editable": true
   },
   "outputs": [
    {
     "data": {
      "text/html": [
       "<style>.container { width:100% !important; }</style>"
      ],
      "text/plain": [
       "<IPython.core.display.HTML object>"
      ]
     },
     "metadata": {},
     "output_type": "display_data"
    }
   ],
   "source": [
    "# https://projecteuler.net/problem=61\n",
    "\n",
    "import pandas as pd\n",
    "import numpy as np\n",
    "from primesieve.numpy import *\n",
    "import itertools as it\n",
    "import sys\n",
    "\n",
    "from IPython.display import display, HTML\n",
    "display(HTML(\"<style>.container { width:100% !important; }</style>\"))\n",
    "pd.options.display.max_rows    = 1000\n",
    "pd.options.display.max_columns = 1000"
   ]
  },
  {
   "cell_type": "code",
   "execution_count": 2,
   "metadata": {
    "collapsed": true,
    "deletable": true,
    "editable": true
   },
   "outputs": [],
   "source": [
    "def triangle(n):\n",
    "    return int(n*(n+1)/2)\n",
    "\n",
    "def square(n):\n",
    "    return int(n*n)\n",
    "\n",
    "def pentagonal(n):\n",
    "    return int(n*(3*n-1)/2)\n",
    "\n",
    "def hexagonal(n):\n",
    "    return int(n*(2*n-1))\n",
    "\n",
    "def heptagonal(n):\n",
    "    return int(n*(5*n-3)/2)\n",
    "\n",
    "def octagonal(n):\n",
    "    return int(n*(3*n-2))"
   ]
  },
  {
   "cell_type": "code",
   "execution_count": 3,
   "metadata": {
    "collapsed": true
   },
   "outputs": [],
   "source": [
    "figurates = [\n",
    "    [], # Triangle\n",
    "    [], # Square\n",
    "    [], # Pentagonal\n",
    "    [], # Hexagonal\n",
    "    [], # Heptagonal\n",
    "    [] # Octagonal\n",
    "]\n",
    "\n",
    "# Triangles\n",
    "val = 0\n",
    "i = 1\n",
    "while val < 10000:\n",
    "    if val >= 1000:\n",
    "        figurates[0].append(val)\n",
    "    val = triangle(i)\n",
    "    i += 1\n",
    "\n",
    "# Squares\n",
    "val = 0\n",
    "i = 1\n",
    "while val < 10000:\n",
    "    if val >= 1000:\n",
    "        figurates[1].append(val)\n",
    "    val = square(i)\n",
    "    i += 1\n",
    "\n",
    "# Pentagonals\n",
    "val = 0\n",
    "i = 1\n",
    "while val < 10000:\n",
    "    if val >= 1000:\n",
    "        figurates[2].append(val)\n",
    "    val = pentagonal(i)\n",
    "    i += 1\n",
    "\n",
    "# Hexagonals\n",
    "val = 0\n",
    "i = 1\n",
    "while val < 10000:\n",
    "    if val >= 1000:\n",
    "        figurates[3].append(val)\n",
    "    val = hexagonal(i)\n",
    "    i += 1\n",
    "\n",
    "# Heptagonals\n",
    "val = 0\n",
    "i = 1\n",
    "while val < 10000:\n",
    "    if val >= 1000:\n",
    "        figurates[4].append(val)\n",
    "    val = heptagonal(i)\n",
    "    i += 1\n",
    "\n",
    "# Octagonals\n",
    "val = 0\n",
    "i = 1\n",
    "while val < 10000:\n",
    "    if val >= 1000:\n",
    "        figurates[5].append(val)\n",
    "    val = octagonal(i)\n",
    "    i += 1"
   ]
  },
  {
   "cell_type": "code",
   "execution_count": 4,
   "metadata": {
    "collapsed": false,
    "deletable": true,
    "editable": true
   },
   "outputs": [],
   "source": [
    "# Create dataframe\n",
    "shape_names = [\n",
    "    \"triangle\",\n",
    "    \"square\",\n",
    "    \"pentagonal\",\n",
    "    \"hexagonal\",\n",
    "    \"heptagonal\",\n",
    "    \"octagonal\"\n",
    "]    \n",
    "shapes = []\n",
    "values = []\n",
    "\n",
    "for idx,s in enumerate(figurates):\n",
    "    values.extend(s)\n",
    "    shapes.extend([shape_names[idx] for i in range(0,len(s))])\n",
    "\n",
    "shape_dict = {\n",
    "    \"value\" : values,\n",
    "    \"shape\" : shapes\n",
    "}\n",
    "\n",
    "df = pd.DataFrame.from_dict(shape_dict)\n",
    "df['beginning'] = df['value'].apply(lambda x : int(x / 100))\n",
    "df['end'] = df['value'].apply(lambda x : int(int(x % 1000) % 100))\n",
    "\n",
    "#Refine the dataframe\n",
    "unique_endings = df['end'].unique()\n",
    "df = df[(df['beginning'].isin(unique_endings))]"
   ]
  },
  {
   "cell_type": "code",
   "execution_count": 10,
   "metadata": {
    "collapsed": false
   },
   "outputs": [
    {
     "name": "stdout",
     "output_type": "stream",
     "text": [
      "Solution Found!\n",
      "[8256, 5625, 2512, 1281, 8128, 2882] = 28684\n"
     ]
    },
    {
     "ename": "SystemExit",
     "evalue": "0",
     "output_type": "error",
     "traceback": [
      "An exception has occurred, use %tb to see the full traceback.\n",
      "\u001b[0;31mSystemExit\u001b[0m\u001b[0;31m:\u001b[0m 0\n"
     ]
    },
    {
     "name": "stderr",
     "output_type": "stream",
     "text": [
      "/home/ben/miniconda3/lib/python3.6/site-packages/IPython/core/interactiveshell.py:2889: UserWarning: To exit: use 'exit', 'quit', or Ctrl-D.\n",
      "  warn(\"To exit: use 'exit', 'quit', or Ctrl-D.\", stacklevel=1)\n"
     ]
    }
   ],
   "source": [
    "shape_orders = list(it.permutations(shape_names,len(shape_names)))\n",
    "total_sos = len(shape_orders)\n",
    "\n",
    "for idx,so in enumerate(shape_orders):\n",
    "    #print(\"Checking Shape Order: \" + str(idx + 1) + \"/\" + str(total_sos) + \"...\")\n",
    "    \n",
    "    df1 = df[df[\"shape\"] == so[0]]\n",
    "    df2 = df[df[\"shape\"] == so[1]]\n",
    "    df3 = df[df[\"shape\"] == so[2]]\n",
    "    df4 = df[df[\"shape\"] == so[3]]\n",
    "    df5 = df[df[\"shape\"] == so[4]]\n",
    "    df6 = df[df[\"shape\"] == so[5]]\n",
    "    \n",
    "    for r1 in df1.itertuples():\n",
    "        df2_r = df2[df2[\"beginning\"] == r1.end]\n",
    "        for r2 in df2_r.itertuples():\n",
    "            df3_r = df3[df3[\"beginning\"] == r2.end]\n",
    "            for r3 in df3_r.itertuples():\n",
    "                df4_r = df4[df4[\"beginning\"] == r3.end]\n",
    "                for r4 in df4_r.itertuples():\n",
    "                    df5_r = df5[df5[\"beginning\"] == r4.end]\n",
    "                    for r5 in df5_r.itertuples():\n",
    "                        df6_r = df6[df6[\"beginning\"] == r5.end]\n",
    "                        for r6 in df6_r.itertuples():\n",
    "                            if r6.end == r1.beginning:\n",
    "                                # Print solution\n",
    "                                solution = [\n",
    "                                    r1.value,\n",
    "                                    r2.value,\n",
    "                                    r3.value,\n",
    "                                    r4.value,\n",
    "                                    r5.value,\n",
    "                                    r6.value\n",
    "                                ]\n",
    "                                print(\"Solution Found!\")\n",
    "                                print(str(solution) + \" = \" + str(np.sum(solution)))\n",
    "                                sys.exit(0)"
   ]
  }
 ],
 "metadata": {
  "kernelspec": {
   "display_name": "Python 3",
   "language": "python",
   "name": "python3"
  },
  "language_info": {
   "codemirror_mode": {
    "name": "ipython",
    "version": 3
   },
   "file_extension": ".py",
   "mimetype": "text/x-python",
   "name": "python",
   "nbconvert_exporter": "python",
   "pygments_lexer": "ipython3",
   "version": "3.6.0"
  }
 },
 "nbformat": 4,
 "nbformat_minor": 2
}
