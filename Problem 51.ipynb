{
 "cells": [
  {
   "cell_type": "markdown",
   "metadata": {},
   "source": [
    "<p>By replacing the 1st digit of the 2-digit number *3, it turns out that six of the nine possible values: 13, 23, 43, 53, 73, and 83, are all prime.</p?\n",
    "\n",
    "By replacing the 3rd and 4th digits of 56**3 with the same digit, this 5-digit number is the first example having seven primes among the ten generated numbers, yielding the family: 56003, 56113, 56333, 56443, 56663, 56773, and 56993. Consequently 56003, being the first member of this family, is the smallest prime with this property.\n",
    "\n",
    "Find the smallest prime which, by replacing part of the number (not necessarily adjacent digits) with the same digit, is part of an eight prime value family."
   ]
  },
  {
   "cell_type": "code",
   "execution_count": null,
   "metadata": {},
   "outputs": [],
   "source": [
    "import pandas as pd\n",
    "import numpy as np\n",
    "from primesieve import *\n",
    "import itertools\n",
    "\n",
    "from IPython.display import display, HTML\n",
    "display(HTML(\"<style>.container { width:100% !important; }</style>\"))\n",
    "pd.options.display.max_rows    = 1000\n",
    "pd.options.display.max_columns = 1000\n",
    "\n",
    "wildcards = []\n",
    "\n",
    "# generate every possible wildcard strings\n",
    "def genWildcardStrings(s, index):\n",
    "    if index > 0:\n",
    "        wildcards.append(s)\n",
    "    for x in range(index, len(s)):\n",
    "        genWildcardStrings(replaceCharWithAsterisk(s, x), x+1)\n",
    "        \n",
    "# replace a character with '*'\n",
    "def replaceCharWithAsterisk(s, index):\n",
    "    return s[0:index] + '*' + s[index+1:]"
   ]
  },
  {
   "cell_type": "code",
   "execution_count": null,
   "metadata": {},
   "outputs": [],
   "source": [
    "prime_list = primes(1000000)\n",
    "\n",
    "for p in prime_list[5781:]:\n",
    "    wildcards = []\n",
    "    genWildcardStrings(str(p),0)\n",
    "    \n",
    "    for c in wildcards:\n",
    "        prime_count = 0\n",
    "        prime_set = []\n",
    "        \n",
    "        for i in range(0,10):\n",
    "            potential = int(c.replace(\"*\",str(i)))\n",
    "            \n",
    "            if len(str(potential)) == len(c):\n",
    "                if potential in prime_list:\n",
    "                    prime_count += 1\n",
    "                    prime_set.append(potential)\n",
    "    \n",
    "        if prime_count >= 8:\n",
    "            print(prime_set)\n",
    "            break"
   ]
  }
 ],
 "metadata": {
  "kernelspec": {
   "display_name": "Python 3",
   "language": "python",
   "name": "python3"
  },
  "language_info": {
   "codemirror_mode": {
    "name": "ipython",
    "version": 3
   },
   "file_extension": ".py",
   "mimetype": "text/x-python",
   "name": "python",
   "nbconvert_exporter": "python",
   "pygments_lexer": "ipython3",
   "version": "3.8.3"
  }
 },
 "nbformat": 4,
 "nbformat_minor": 2
}
