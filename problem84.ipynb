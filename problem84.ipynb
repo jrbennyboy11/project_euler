{
 "cells": [
  {
   "cell_type": "markdown",
   "metadata": {},
   "source": [
    "#### https://projecteuler.net/problem=84"
   ]
  },
  {
   "cell_type": "code",
   "execution_count": 1,
   "metadata": {},
   "outputs": [
    {
     "data": {
      "text/html": [
       "<style>.container { width:100% !important; }</style>"
      ],
      "text/plain": [
       "<IPython.core.display.HTML object>"
      ]
     },
     "metadata": {},
     "output_type": "display_data"
    }
   ],
   "source": [
    "import pandas as pd\n",
    "import numpy as np\n",
    "from primesieve.numpy import *\n",
    "import itertools\n",
    "from random import randint, shuffle\n",
    "\n",
    "from IPython.display import display, HTML\n",
    "display(HTML(\"<style>.container { width:100% !important; }</style>\"))\n",
    "pd.options.display.max_rows    = 1000\n",
    "pd.options.display.max_columns = 1000\n",
    "\n",
    "board = ['GO', 'A1', 'CC1', 'A2', 'T1', 'R1', 'B1', 'CH1', 'B2', 'B3', 'JAIL', 'C1', 'U1', 'C2', 'C3', 'R2', 'D1', 'CC2', 'D2', 'D3', 'FP', 'E1', 'CH2', 'E2', 'E3', 'R3', 'F1', 'F2', 'U2', 'F3', 'G2J', 'G1', 'G2', 'CC3', 'G3', 'R4', 'CH3', 'H1', 'T2', 'H2']\n",
    "\n",
    "dice_sides = 4\n",
    "current_space = 'GO'\n",
    "\n",
    "community_chest = ['GO','JAIL',None,None,None,None,None,None,None,None,None,None,None,None,None,None]\n",
    "chance          = ['GO','JAIL','C1','E3','H2','R1','railway company','railway company','utility company','back 3',None,None,None,None,None,None]\n",
    "cc_idx = 0\n",
    "ch_idx = 0"
   ]
  },
  {
   "cell_type": "code",
   "execution_count": 2,
   "metadata": {},
   "outputs": [],
   "source": [
    "#shuffle(community_chest)\n",
    "#shuffle(chance)\n",
    "\n",
    "def move(previous_position, num_spaces):\n",
    "    start_index = board.index(previous_position)\n",
    "    new_index = (start_index + num_spaces) % len(board)\n",
    "    return board[new_index]\n",
    "\n",
    "def roll():\n",
    "    return randint(1, dice_sides)\n",
    "\n",
    "def land_on_cc(cc_idx):\n",
    "    return community_chest[cc_idx]\n",
    "\n",
    "def land_on_ch(ch_idx):\n",
    "    return chance[ch_idx]\n",
    "\n",
    "def next_r(current_space):\n",
    "    next_space = move(current_space, 1)\n",
    "    \n",
    "    while next_space[0:1] != 'R':\n",
    "        next_space = move(next_space, 1)\n",
    "    \n",
    "    return next_space\n",
    "\n",
    "def next_u(current_space):\n",
    "    next_space = move(current_space, 1)\n",
    "    \n",
    "    while next_space[0:1] != 'U':\n",
    "        next_space = move(next_space, 1)\n",
    "    \n",
    "    return next_space\n",
    "\n",
    "landed_on = {}\n",
    "\n",
    "for space in board:\n",
    "    landed_on[space] = 0"
   ]
  },
  {
   "cell_type": "code",
   "execution_count": 3,
   "metadata": {},
   "outputs": [],
   "source": [
    "number_of_rolls = 1000000\n",
    "\n",
    "for r in range(0,number_of_rolls):\n",
    "    rolled_space = move(current_space,roll()+roll())\n",
    "    \n",
    "    # Community chest is landed on\n",
    "    if rolled_space[0:2] == 'CC':\n",
    "        card_drawn = land_on_cc(cc_idx)\n",
    "        cc_idx = (cc_idx + 1) % len(community_chest)\n",
    "        \n",
    "        if card_drawn is not None:\n",
    "            rolled_space = card_drawn\n",
    "    # Chance is landed on\n",
    "    elif rolled_space[0:2] == 'CH':\n",
    "        card_drawn = land_on_ch(ch_idx)\n",
    "        ch_idx = (ch_idx + 1) % len(chance)\n",
    "        \n",
    "        if card_drawn is not None:\n",
    "            if card_drawn == 'railway company':\n",
    "                rolled_space = next_r(rolled_space)\n",
    "            elif card_drawn == 'utility company':\n",
    "                rolled_space = next_u(rolled_space)\n",
    "            elif card_drawn == 'back 3':\n",
    "                rolled_space = move(rolled_space, len(board) - 3)\n",
    "            else:\n",
    "                rolled_space = card_drawn\n",
    "    elif rolled_space == 'G2J':\n",
    "        rolled_space = 'JAIL'\n",
    "    \n",
    "    landed_on[rolled_space] += 1\n",
    "    current_space = rolled_space"
   ]
  },
  {
   "cell_type": "code",
   "execution_count": 4,
   "metadata": {},
   "outputs": [
    {
     "name": "stdout",
     "output_type": "stream",
     "text": [
      "JAILE3GO\n",
      "102400\n"
     ]
    }
   ],
   "source": [
    "most_landed_on = sorted(landed_on.values())[-3:][::-1]\n",
    "\n",
    "mlo = []\n",
    "for lands in most_landed_on:\n",
    "    for space in landed_on:\n",
    "        if landed_on[space] == lands:\n",
    "            mlo.append(space)\n",
    "\n",
    "print(\"\".join(mlo))\n",
    "\n",
    "print(\"\".join([\"%02d\" % (board.index(space)) for space in mlo]))"
   ]
  }
 ],
 "metadata": {
  "kernelspec": {
   "display_name": "Python 3",
   "language": "python",
   "name": "python3"
  },
  "language_info": {
   "codemirror_mode": {
    "name": "ipython",
    "version": 3
   },
   "file_extension": ".py",
   "mimetype": "text/x-python",
   "name": "python",
   "nbconvert_exporter": "python",
   "pygments_lexer": "ipython3",
   "version": "3.6.1"
  }
 },
 "nbformat": 4,
 "nbformat_minor": 2
}
